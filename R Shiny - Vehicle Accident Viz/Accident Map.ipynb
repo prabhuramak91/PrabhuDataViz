{
 "cells": [
  {
   "cell_type": "code",
   "execution_count": 1,
   "metadata": {},
   "outputs": [
    {
     "ename": "ERROR",
     "evalue": "Error in library(leaflet): there is no package called 'leaflet'\n",
     "output_type": "error",
     "traceback": [
      "Error in library(leaflet): there is no package called 'leaflet'\nTraceback:\n",
      "1. library(leaflet)",
      "2. stop(txt, domain = NA)"
     ]
    }
   ],
   "source": [
    "library(shiny)\n",
    "library(leaflet)\n",
    "library(lubridate)\n",
    "library(dplyr)\n",
    "library(tidyr)\n",
    "\n",
    "data <- read.csv(\"Vehicle_Accident_Data.csv\")\n",
    "df <- tidyr::separate(data=data,\n",
    "                      col=Location,\n",
    "                      into=c(\"Latitude\", \"Longitude\"),\n",
    "                      sep=\",\",\n",
    "                      remove=FALSE)\n",
    "df$Latitude <- stringr::str_replace_all(df$Latitude, \"[(]\", \"\")\n",
    "df$Longitude <- stringr::str_replace_all(df$Longitude, \"[)]\", \"\")\n",
    "df$Latitude <- as.numeric(df$Latitude)\n",
    "df$Longitude <- as.numeric(df$Longitude)\n",
    "df$Crashdate = as.Date(df$Crash.Date.Time, format=\"%m/%d/%Y\")\n",
    "\n",
    "ui <- navbarPage(\"Vehicle Accident\",\n",
    "                 tabPanel(\"Interactive Map\",\n",
    "                        tags$h4(\"Vehicle Accident Location\"),\n",
    "                        leafletOutput(\"mymap\",height = 1000, width = 1000),\n",
    "                        absolutePanel( fixed = TRUE, draggable = TRUE, top = 100, left = \"auto\", right = 20, bottom = \"auto\",\n",
    "                                      width = 300, height = \"auto\",\n",
    "                                      h3(\"Map Customizing Options\"),\n",
    "                                      dateRangeInput(\"dateRange\", \"Date Range\", start = min(df$Crashdate), end = max(df$Crashdate), min = min(df$Crashdate), max = max(df$Crashdate)),\n",
    "                                      checkboxInput(\"Fatality\", \"Fatality\", value = FALSE),\n",
    "                                      checkboxInput(\"Hitandrun\", \"Hit and Run\", value = FALSE)\n",
    "                                      \n",
    "                        )  \n",
    "                ),\n",
    "                tabPanel(\"Data Table\", \n",
    "                         tags$h4(\"Filtered Data Table\"),\n",
    "                         DT::dataTableOutput(\"accidentTable\")\n",
    "                        )\n",
    "    \n",
    ")\n",
    " \n",
    "server <- function(input,output){\n",
    "\n",
    "  data <- reactive({\n",
    "  filter(df, between(Crashdate, as.Date(input$dateRange[1]), as.Date(input$dateRange[2])) & Fatality == input$Fatality & Hit.And.Run == input$Hitandrun)\n",
    "  })\n",
    "\n",
    "  output$mymap <- renderLeaflet({\n",
    "    df <- data()\n",
    "\n",
    "    m <- leaflet(data = df) %>%\n",
    "      addTiles(urlTemplate = \"//{s}.tiles.mapbox.com/v3/jcheng.map-5ebohr46/{z}/{x}/{y}.png\",\n",
    "               attribution = 'Maps by <a href=\"http://www.mapbox.com/\">Mapbox</a>') %>%\n",
    "      setView(lng = -97.309341, lat = 32.768799, zoom = 10) %>%\n",
    "      addMarkers(lng = ~Longitude,\n",
    "                 lat = ~Latitude)\n",
    "    m\n",
    "  })\n",
    "\n",
    "  output$accidentTable <- DT::renderDataTable({ (data = filter(df, between(Crashdate, as.Date(input$dateRange[1]), as.Date(input$dateRange[2])) & Fatality == input$Fatality & Hit.And.Run == input$Hitandrun))\n",
    "  DT::datatable(data = data,\n",
    "                options = list(pageLength = 10),\n",
    "                rownames = FALSE) \n",
    "  })\n",
    "}\n",
    "\n",
    "shinyApp(ui = ui, server = server)\n"
   ]
  },
  {
   "cell_type": "code",
   "execution_count": null,
   "metadata": {
    "collapsed": true
   },
   "outputs": [],
   "source": []
  }
 ],
 "metadata": {
  "kernelspec": {
   "display_name": "R",
   "language": "R",
   "name": "ir"
  },
  "language_info": {
   "codemirror_mode": "r",
   "file_extension": ".r",
   "mimetype": "text/x-r-source",
   "name": "R",
   "pygments_lexer": "r",
   "version": "3.4.2"
  }
 },
 "nbformat": 4,
 "nbformat_minor": 2
}
